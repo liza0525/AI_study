{
 "cells": [
  {
   "cell_type": "code",
   "execution_count": 1,
   "metadata": {},
   "outputs": [],
   "source": [
    "import tensorflow as tf\n",
    "\n",
    "# data and Label\n",
    "x1 = [ 73.,  93.,  89.,  96.,  73.]\n",
    "x2 = [ 80.,  88.,  91.,  98.,  66.]\n",
    "x3 = [ 75.,  93.,  90., 100.,  70.]\n",
    "Y  = [152., 185., 180., 196., 142.] # output data, label, answer\n",
    "\n",
    "#random weights\n",
    "w1 = tf.Variable(tf.random.normal([1]))\n",
    "w2 = tf.Variable(tf.random.normal([1]))\n",
    "w3 = tf.Variable(tf.random.normal([1]))\n",
    "b  = tf.Variable(tf.random.normal([1]))\n",
    "\n",
    "# weights(static)\n",
    "# w1 = tf.Variable(10.)\n",
    "# w2 = tf.Variable(10.)\n",
    "# w3 = tf.Variable(10.)\n",
    "# b = tf.Variable(10.)"
   ]
  },
  {
   "cell_type": "code",
   "execution_count": 2,
   "metadata": {},
   "outputs": [
    {
     "name": "stdout",
     "output_type": "stream",
     "text": [
      "    0 |   37077.3047\n",
      "   50 |     422.7476\n",
      "  100 |      16.0048\n",
      "  150 |      11.4704\n",
      "  200 |      11.3989\n",
      "  250 |      11.3770\n",
      "  300 |      11.3557\n",
      "  350 |      11.3343\n",
      "  400 |      11.3132\n",
      "  450 |      11.2921\n",
      "  500 |      11.2711\n",
      "  550 |      11.2501\n",
      "  600 |      11.2292\n",
      "  650 |      11.2083\n",
      "  700 |      11.1875\n",
      "  750 |      11.1667\n",
      "  800 |      11.1458\n",
      "  850 |      11.1251\n",
      "  900 |      11.1044\n",
      "  950 |      11.0837\n",
      " 1000 |      11.0631\n"
     ]
    }
   ],
   "source": [
    "learning_rate = 0.000001\n",
    "\n",
    "for i in range(1000+1):\n",
    "    # Gradient Descent(learned in the privous lecture)\n",
    "    with tf.GradientTape() as tape:\n",
    "        hypothesis = w1 * x1 + w2 * x2 + w3 * x3 + b\n",
    "        cost = tf.reduce_mean(tf.square(hypothesis - Y))\n",
    "    w1_grad, w2_grad, w3_grad, b_grad = tape.gradient(cost, [w1, w2, w3, b])\n",
    "    \n",
    "    # update w1, w2, w3 and bㅡ\n",
    "    w1.assign_sub(learning_rate * w1_grad)\n",
    "    w2.assign_sub(learning_rate * w2_grad)\n",
    "    w3.assign_sub(learning_rate * w3_grad)\n",
    "    b.assign_sub(learning_rate * b_grad)\n",
    "    \n",
    "    if i % 50 == 0:\n",
    "        print(\"{:5} | {:12.4f}\".format(i, cost.numpy()))"
   ]
  },
  {
   "cell_type": "code",
   "execution_count": 3,
   "metadata": {},
   "outputs": [
    {
     "name": "stdout",
     "output_type": "stream",
     "text": [
      "    0 | 171263.2656\n",
      "  100 |    26.8400\n",
      "  200 |     5.7283\n",
      "  300 |     5.6972\n",
      "  400 |     5.6687\n",
      "  500 |     5.6404\n",
      "  600 |     5.6123\n",
      "  700 |     5.5843\n",
      "  800 |     5.5565\n",
      "  900 |     5.5288\n",
      " 1000 |     5.5013\n",
      " 1100 |     5.4739\n",
      " 1200 |     5.4466\n",
      " 1300 |     5.4196\n",
      " 1400 |     5.3926\n",
      " 1500 |     5.3658\n",
      " 1600 |     5.3392\n",
      " 1700 |     5.3127\n",
      " 1800 |     5.2863\n",
      " 1900 |     5.2601\n",
      " 2000 |     5.2340\n"
     ]
    }
   ],
   "source": [
    "import numpy as np\n",
    "\n",
    "# matrix를 이용하면\n",
    "# w의 갯수가 늘어나도, 수식의 변경이 용이\n",
    "# 성능 면에서도 보다 우수\n",
    "\n",
    "data = np.array([\n",
    "    # X1,  X2,  X3,    Y\n",
    "    [73.,  80.,  75., 152.],\n",
    "    [93.,  88.,  93., 185.],\n",
    "    [89.,  91.,  90., 180.],\n",
    "    [96.,  98., 100., 196.],\n",
    "    [73.,  66.,  70., 142.],\n",
    "], dtype=np.float32)\n",
    "\n",
    "# slice data\n",
    "X = data[:, :-1]\n",
    "y = data[:, [-1]]\n",
    "\n",
    "# create W matrix, b matrix\n",
    "W = tf.Variable(tf.random.normal([3, 1])) # [number of row, number of column]\n",
    "b = tf.Variable(tf.random.normal([1]))\n",
    "\n",
    "learning_rate = 0.000001\n",
    "\n",
    "# hypothesis, prediction function\n",
    "def predict(X):\n",
    "    return tf.matmul(X, W) + b\n",
    "\n",
    "n_epochs = 2000\n",
    "\n",
    "for i in range(n_epochs+1):\n",
    "    with tf.GradientTape() as tape:\n",
    "        cost = tf.reduce_mean((tf.square(predict(X) - y)))\n",
    "    \n",
    "    W_grad, b_grad = tape.gradient(cost, [W, b])\n",
    "    \n",
    "    W.assign_sub(learning_rate * W_grad)\n",
    "    b.assign_sub(learning_rate * b_grad)\n",
    "    \n",
    "    if i% 100 == 0:\n",
    "        print('{:5} | {:10.4f}'.format(i, cost.numpy()))"
   ]
  }
 ],
 "metadata": {
  "kernelspec": {
   "display_name": "Python 3",
   "language": "python",
   "name": "python3"
  },
  "language_info": {
   "codemirror_mode": {
    "name": "ipython",
    "version": 3
   },
   "file_extension": ".py",
   "mimetype": "text/x-python",
   "name": "python",
   "nbconvert_exporter": "python",
   "pygments_lexer": "ipython3",
   "version": "3.7.7"
  }
 },
 "nbformat": 4,
 "nbformat_minor": 4
}
