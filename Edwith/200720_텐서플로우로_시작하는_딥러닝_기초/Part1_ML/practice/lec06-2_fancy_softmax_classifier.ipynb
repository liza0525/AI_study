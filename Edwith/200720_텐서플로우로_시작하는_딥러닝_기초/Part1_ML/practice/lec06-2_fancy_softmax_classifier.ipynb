{
 "cells": [
  {
   "cell_type": "code",
   "execution_count": 1,
   "metadata": {},
   "outputs": [
    {
     "name": "stdout",
     "output_type": "stream",
     "text": [
      "2.2.0\n"
     ]
    }
   ],
   "source": [
    "# 동물 분류\n",
    "import tensorflow as tf\n",
    "import numpy as np\n",
    "\n",
    "print(tf.__version__)\n",
    "tf.random.set_seed(777)"
   ]
  },
  {
   "cell_type": "code",
   "execution_count": 2,
   "metadata": {},
   "outputs": [
    {
     "name": "stdout",
     "output_type": "stream",
     "text": [
      "(101, 16) (101, 7)\n"
     ]
    }
   ],
   "source": [
    "# prediction animal type based on various features\n",
    "# numpy library 이용하여 csv를 load\n",
    "xy = np.loadtxt('data-04-zoo.csv', delimiter=',', dtype=np.float32)\n",
    "x_data = xy[:, 0:-1]\n",
    "y_data = xy[:, -1]\n",
    "\n",
    "# preprocessing\n",
    "nb_classes = 7\n",
    "# Y_one_hot = tf.one_hot(list(y_data), nb_classes) # one hot을 적용하면 차원이 하나 올라간다.\n",
    "# Y_one_hot = tf.reshape(Y_one_hot, [-1, nb_classes]) # 따라서 다시 shape를 하나 낮춘다.\n",
    "Y_one_hot = tf.one_hot(y_data.astype(np.int32), nb_classes)\n",
    "\n",
    "print(x_data.shape, Y_one_hot.shape)"
   ]
  },
  {
   "cell_type": "code",
   "execution_count": 3,
   "metadata": {},
   "outputs": [
    {
     "name": "stdout",
     "output_type": "stream",
     "text": [
      "Steps:   1 Loss: 3.63503 Acc: 0.16832\n",
      "Steps: 100 Loss: 0.51942 Acc: 0.79208\n",
      "Steps: 200 Loss: 0.31850 Acc: 0.91089\n",
      "Steps: 300 Loss: 0.23535 Acc: 0.94059\n",
      "Steps: 400 Loss: 0.18872 Acc: 0.95050\n",
      "Steps: 500 Loss: 0.15846 Acc: 0.95050\n",
      "Steps: 600 Loss: 0.13704 Acc: 0.99010\n",
      "Steps: 700 Loss: 0.12099 Acc: 0.99010\n",
      "Steps: 800 Loss: 0.10848 Acc: 1.00000\n",
      "Steps: 900 Loss: 0.09843 Acc: 1.00000\n",
      "Steps: 1000 Loss: 0.09017 Acc: 1.00000\n"
     ]
    }
   ],
   "source": [
    "# set weight and bias\n",
    "W = tf.Variable(tf.random.normal([16, nb_classes]), name='weight')\n",
    "b = tf.Variable(tf.random.normal([nb_classes]), name='bias')\n",
    "variables = [W, b] # update할 W, b\n",
    "\n",
    "def logit_fn(X):\n",
    "    return tf.matmul(X, W) + b\n",
    "\n",
    "# 정확도를 위해 hypothesis 함수를 따로 구현\n",
    "def hypothesis(X):\n",
    "    return tf.nn.softmax(logit_fn(X))\n",
    "\n",
    "def cost_fn(X, Y):\n",
    "    logits = logit_fn(X)\n",
    "    cost_sum = tf.keras.losses.categorical_crossentropy(y_true=Y, y_pred=logits, from_logits=True)\n",
    "    cost = tf.reduce_mean(cost_sum)\n",
    "    return cost\n",
    "\n",
    "def grad_fn(X, Y):\n",
    "    with tf.GradientTape() as tape:\n",
    "        loss = cost_fn(X, Y)\n",
    "        grads = tape.gradient(loss, variables)\n",
    "        return grads\n",
    "\n",
    "def prediction(X, Y):\n",
    "    pred = tf.argmax(hypothesis(X), 1)\n",
    "    correct_prediction = tf.equal(pred, tf.argmax(Y, 1))\n",
    "    accuracy = tf.reduce_mean(tf.cast(correct_prediction, tf.float32))\n",
    "    return accuracy\n",
    "\n",
    "def fit(X, Y, epochs=1000, verbose=100):\n",
    "    optimizer = tf.keras.optimizers.SGD(learning_rate=0.1)\n",
    "    for i in range(epochs):\n",
    "        grads = grad_fn(X, Y)\n",
    "        optimizer.apply_gradients(zip(grads, variables))\n",
    "        if (i==0) | ((i+1) % verbose == 0):\n",
    "            acc = prediction(X, Y).numpy() # 정확도 확인\n",
    "            loss = cost_fn(X, Y).numpy()\n",
    "            print('Steps: {:3.0f} Loss: {:3.5f} Acc: {:3.5f}'.format(i+1, loss, acc))\n",
    "            \n",
    "fit(x_data, Y_one_hot)"
   ]
  }
 ],
 "metadata": {
  "kernelspec": {
   "display_name": "Python 3",
   "language": "python",
   "name": "python3"
  },
  "language_info": {
   "codemirror_mode": {
    "name": "ipython",
    "version": 3
   },
   "file_extension": ".py",
   "mimetype": "text/x-python",
   "name": "python",
   "nbconvert_exporter": "python",
   "pygments_lexer": "ipython3",
   "version": "3.7.7"
  }
 },
 "nbformat": 4,
 "nbformat_minor": 4
}
